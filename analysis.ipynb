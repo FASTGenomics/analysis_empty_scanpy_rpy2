{
 "cells": [
  {
   "cell_type": "markdown",
   "metadata": {},
   "source": [
    "# FASTGenomics Scanpy + R Analysis"
   ]
  },
  {
   "cell_type": "markdown",
   "metadata": {},
   "source": [
    "<font color=\"red\">You might want to describe your analysis briefly here, if you are planning to share it.</font>"
   ]
  },
  {
   "cell_type": "code",
   "execution_count": null,
   "metadata": {},
   "outputs": [],
   "source": [
    "# Place all your Python imports here.\n",
    "import logging\n",
    "import fgread\n",
    "import scanpy as sc\n",
    "import scipy.sparse as spsp\n",
    "\n",
    "# do not delete these imports as they are required for R support\n",
    "import rpy2.rinterface_lib.callbacks\n",
    "from rpy2.robjects import pandas2ri\n",
    "import anndata2ri\n",
    "%load_ext rpy2.ipython"
   ]
  },
  {
   "cell_type": "code",
   "execution_count": null,
   "metadata": {},
   "outputs": [],
   "source": [
    "%%R\n",
    "# Place all your R library imports here\n",
    "suppressPackageStartupMessages({\n",
    "    library(scran)\n",
    "})"
   ]
  },
  {
   "cell_type": "code",
   "execution_count": null,
   "metadata": {},
   "outputs": [],
   "source": [
    "# Place all your parameter values here.\n",
    "\n",
    "sc.settings.verbosity = 1                                    # scanpy verbosity: errors (0), warnings (1), info (2), hints (3)\n",
    "rpy2.rinterface_lib.callbacks.logger.setLevel(logging.ERROR) # Ignore R warning messages\n",
    "\n",
    "# Automatically convert rpy2 outputs to pandas dataframes\n",
    "pandas2ri.activate()\n",
    "anndata2ri.activate()"
   ]
  },
  {
   "cell_type": "markdown",
   "metadata": {},
   "source": [
    "## Raw Data\n",
    "First, the raw dataset(s) will be read into an AnnData object(s)."
   ]
  },
  {
   "cell_type": "markdown",
   "metadata": {},
   "source": [
    "<font color=\"red\">You can describe your data here using markdown or delete this text.</font>"
   ]
  },
  {
   "cell_type": "code",
   "execution_count": null,
   "metadata": {},
   "outputs": [],
   "source": [
    "# Print metadata of all attached datasets\n",
    "ds_info = fgread.ds_info()\n",
    "ds_info"
   ]
  },
  {
   "cell_type": "code",
   "execution_count": null,
   "metadata": {},
   "outputs": [],
   "source": [
    "# Load the attached dataset\n",
    "fgread.load_data() # If multiple datasets are attached, you have to select one by its id or tile"
   ]
  },
  {
   "cell_type": "code",
   "execution_count": null,
   "metadata": {},
   "outputs": [],
   "source": [
    "# If you only have one dataset in your analysis you can load it by\n",
    "#adata = fgread.load_data()\n",
    "# You can also load a specific dataset by providing its ID or title as a parameter"
   ]
  },
  {
   "cell_type": "markdown",
   "metadata": {},
   "source": [
    "## Preprocessing\n",
    "<font color=\"red\">You can describe your preprocessing here or delete this text.</font>\n",
    "\n",
    "If this is your first analysis, you might want to have a look at our tutorials on\n",
    "<a href=\"https://beta.fastgenomics.org/webclient/ui/#/analyses/detail-analysis-42e3571101184ed78856cbd83adfeb7e\" target=\"_blank\">Getting Started with FASTGenomics Lab</a>,\n",
    "the data loading (<a href=\"https://beta.fastgenomics.org/webclient/ui/#/analyses/detail-analysis-9975f546d76341ea85a6c5b0870654a1\" target=\"_blank\">How to Load Data in FASTGenomics (Python)</a>),\n",
    "Scanpy with R support (<a href=\"https://beta.fastgenomics.org/webclient/ui/#/analyses/detail-analysis-2bd51db2cb564ca7bc8dc3a9caa6b09b\" target=\"_blank\">Advanced Scanpy with R Support (rpy2)</a>), or the\n",
    "<a href=\"https://beta.fastgenomics.org/webclient/ui/#/analyses/detail-analysis-4550a1215f5747f88ac0f83ab96d2114\" target=\"_blank\">Best Practices Preprocessing Notebook</a>."
   ]
  },
  {
   "cell_type": "code",
   "execution_count": null,
   "metadata": {},
   "outputs": [],
   "source": [
    "# This is an example of how to prepare AnnData matrices for processing with R\n",
    "if spsp.issparse(data_all[title].X):\n",
    "    data = data_all[title].X.T.todense() # if X in anndata is sparse\n",
    "else:\n",
    "    data = data_all[title].X.T # if X in anndata is already dense"
   ]
  },
  {
   "cell_type": "code",
   "execution_count": null,
   "metadata": {},
   "outputs": [],
   "source": [
    "%%R -i data -o clusters\n",
    "# You can use R code in cells with specified inputs and outputs\n",
    "clusters <- quickCluster(data)"
   ]
  },
  {
   "cell_type": "code",
   "execution_count": null,
   "metadata": {},
   "outputs": [],
   "source": [
    "# The outputs are then available in Python\n",
    "clusters"
   ]
  },
  {
   "cell_type": "code",
   "execution_count": null,
   "metadata": {},
   "outputs": [],
   "source": []
  }
 ],
 "metadata": {
  "hide_input": false,
  "kernelspec": {
   "display_name": "Python 3",
   "language": "python",
   "name": "python3"
  },
  "language_info": {
   "codemirror_mode": {
    "name": "ipython",
    "version": 3
   },
   "file_extension": ".py",
   "mimetype": "text/x-python",
   "name": "python",
   "nbconvert_exporter": "python",
   "pygments_lexer": "ipython3",
   "version": "3.7.6"
  },
  "toc": {
   "base_numbering": 1,
   "nav_menu": {},
   "number_sections": true,
   "sideBar": true,
   "skip_h1_title": false,
   "title_cell": "Table of Contents",
   "title_sidebar": "Contents",
   "toc_cell": false,
   "toc_position": {},
   "toc_section_display": true,
   "toc_window_display": false
  },
  "widgets": {
   "application/vnd.jupyter.widget-state+json": {
    "state": {},
    "version_major": 2,
    "version_minor": 0
   }
  }
 },
 "nbformat": 4,
 "nbformat_minor": 4
}
