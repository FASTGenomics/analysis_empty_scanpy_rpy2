{
 "cells": [
  {
   "cell_type": "markdown",
   "metadata": {},
   "source": [
    "# Plain Jupyter Notebook in Python"
   ]
  },
  {
   "cell_type": "markdown",
   "execution_count": null,
   "metadata": {},
   "outputs": [],
   "source": [
    "## Introduction\n",
    "This notebook shall help you get started quickly with FASTGenomics in general and with this environment in particular. The environment is a reproduction of the [single-cell tutorial](https://github.com/theislab/single-cell-tutorial) image as presented in [Lücken & Theis (2019)](https://www.embopress.org/doi/full/10.15252/msb.20188746).\n",
    "\n",
    "### Data loading\n",
    "Loading data from the FASTGenomics database is realized with the package `fgread`. It imports the data as AnnData objects. If you attached multiple datasets to this analysis, the variable `dsets` will have more than one element. Please note that for technical reasons the first element is accessed via `dsets[1]`.\n",
    "\n",
    "### `Scanpy` environment\n",
    "The `scanpy` environment includes many packages used for preprocessing and downstream analysis of single-cell data. Additional to `scanpy` and `anndata`, which provide the basic functionality, you can use\n",
    "* `scikit-learn` for machine learning methods\n",
    "* `louvain` for Louvain clustering\n",
    "* `MulticoreTSNE` to allow t-SNE dimensional reduction\n",
    "* `python-igraph` for complex network analysis\n",
    "* `fa2` for visualization using Gephi's ForceAtlas2\n",
    "* `statsmodels` for statistical computations complementary to `scipy`\n",
    "* and many more.\n",
    "\n",
    "### R support via `rpy2`\n",
    "This environment also supports R functionality with the import of the package `rpy2`. This means that you can use R code in this notebook, just make sure that you start your cells with the cell magic command `%%R`. R libraries that are available in this environment include:\n",
    "* `BiocManager` to install Bioconductor packages\n",
    "* `scran` for preprocessing\n",
    "* `MAST` for differential expression analysis\n",
    "* `slingshot` for pseudotime and trajectory inference\n",
    "* `monocle2` for pseudotime and trajectory inference\n",
    "* `gam` for finding genes that change over pseudotime\n",
    "* `RColorBrewer` and `clusterExperiment` for visualization in R\n",
    "* `ComplexHeatmap` for heatmap plotting\n",
    "\n",
    "### Add more packages\n",
    "If the package you require is not available in this environment, you can simply install it using, e.g., `!pip install [your_package]`. To get a list of already installed packages use `!conda list`."
   ]
  },
  {
   "cell_type": "markdown",
   "execution_count": null,
   "metadata": {},
   "outputs": [],
   "source": [
    "## Import packages\n",
    "Here, we import the most important packages to provide the full functionality of this environment."
   ]
  },
  {
   "cell_type": "code",
   "execution_count": null,
   "metadata": {},
   "outputs": [
    {
     "evalue": "Error: Jupyter notebook failed to launch. \r\nError: The Jupyter notebook server failed to launch in time",
     "output_type": "error"
    }
   ],
   "source": [
    "import scanpy as sc\n",
    "import numpy as np\n",
    "import pandas as pd\n",
    "import matplotlib.pyplot as plt\n",
    "import seaborn as sns\n",
    "import fgread\n",
    "import warnings\n",
    "\n",
    "import rpy2.rinterface_lib.callbacks\n",
    "import logging\n",
    "from rpy2.robjects import pandas2ri\n",
    "import anndata2ri"
   ]
  },
  {
   "cell_type": "code",
   "execution_count": null,
   "metadata": {},
   "outputs": [],
   "source": [
    "# Ignore some Python warning messages for better readability\n",
    "sc.settings.verbosity = 3             # verbosity: errors (0), warnings (1), info (2), hints (3)\n",
    "warnings.filterwarnings('ignore')     # warnings will not be shown for better readybility\n",
    "warnings.simplefilter(\"ignore\", category=DeprecationWarning)"
   ]
  },
  {
   "cell_type": "markdown",
   "execution_count": null,
   "metadata": {},
   "outputs": [],
   "source": [
    "### Set up R support"
   ]
  },
  {
   "cell_type": "code",
   "execution_count": null,
   "metadata": {},
   "outputs": [],
   "source": [
    "# Ignore R warning messages\n",
    "#Note: this can be commented out to get more verbose R output\n",
    "rpy2.rinterface_lib.callbacks.logger.setLevel(logging.ERROR)\n",
    "\n",
    "# Automatically convert rpy2 outputs to pandas dataframes\n",
    "pandas2ri.activate()\n",
    "anndata2ri.activate()\n",
    "%load_ext rpy2.ipython"
   ]
  },
  {
   "cell_type": "code",
   "execution_count": null,
   "metadata": {},
   "outputs": [],
   "source": [
    "%%R\n",
    "# Load all the R libraries we will be using in the notebook\n",
    "library(scran)\n",
    "library(RColorBrewer)\n",
    "library(gam)\n",
    "library(ggplot2)\n",
    "library(plyr)"
   ]
  },
  {
   "cell_type": "markdown",
   "metadata": {},
   "source": [
    "## Load data\n",
    "The data can be loaded with `fgread` like this:"
   ]
  },
  {
   "cell_type": "code",
   "execution_count": null,
   "metadata": {},
   "outputs": [],
   "source": [
    "import fgread # FASTGenomics reading function"
   ]
  },
  {
   "cell_type": "code",
   "execution_count": null,
   "metadata": {},
   "outputs": [],
   "source": [
    "# Get data sets\n",
    "dsets = fgread.get_datasets()\n",
    "dsets"
   ]
  },
  {
   "cell_type": "code",
   "execution_count": null,
   "metadata": {},
   "outputs": [],
   "source": [
    "# Load first data set into anndata object\n",
    "adata = fgread.read_datasets(dsets[1])\n",
    "adata"
   ]
  },
  {
   "cell_type": "code",
   "execution_count": null,
   "metadata": {},
   "outputs": [],
   "source": []
  }
 ],
 "metadata": {
  "kernelspec": {
   "display_name": "Python 3",
   "language": "python",
   "name": "python3"
  }
 },
 "nbformat": 4,
 "nbformat_minor": 2
}