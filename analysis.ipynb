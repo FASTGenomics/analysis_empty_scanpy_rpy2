{
 "cells": [
  {
   "cell_type": "markdown",
   "metadata": {},
   "source": [
    "# FASTGenomics Scanpy + R Analysis"
   ]
  },
  {
   "cell_type": "markdown",
   "metadata": {},
   "source": [
    "<font color=\"red\">You might want to describe your analysis briefly here, if you are planning to share it.</font>"
   ]
  },
  {
   "cell_type": "code",
   "execution_count": null,
   "metadata": {},
   "outputs": [],
   "source": [
    "# Place all your Python imports here.\n",
    "import logging\n",
    "import fgread\n",
    "import scanpy as sc\n",
    "\n",
    "# do not delete these imports as they are required for R support\n",
    "import rpy2.rinterface_lib.callbacks\n",
    "from rpy2.robjects import pandas2ri\n",
    "import anndata2ri\n",
    "%load_ext rpy2.ipython"
   ]
  },
  {
   "cell_type": "code",
   "execution_count": null,
   "metadata": {},
   "outputs": [],
   "source": [
    "%%R\n",
    "# Place all your R library imports here\n",
    "suppressPackageStartupMessages({\n",
    "    library(scran)\n",
    "})"
   ]
  },
  {
   "cell_type": "code",
   "execution_count": null,
   "metadata": {},
   "outputs": [],
   "source": [
    "# Place all your parameter values here.\n",
    "\n",
    "sc.settings.verbosity = 1                                    # scanpy verbosity: errors (0), warnings (1), info (2), hints (3)\n",
    "rpy2.rinterface_lib.callbacks.logger.setLevel(logging.ERROR) # Ignore R warning messages\n",
    "\n",
    "# Automatically convert rpy2 outputs to pandas dataframes\n",
    "pandas2ri.activate()\n",
    "anndata2ri.activate()"
   ]
  },
  {
   "cell_type": "markdown",
   "metadata": {},
   "source": [
    "## Raw Data\n",
    "First, the raw dataset(s) will be read into an AnnData object(s)."
   ]
  },
  {
   "cell_type": "markdown",
   "metadata": {},
   "source": [
    "<font color=\"red\">You can describe your data here using markdown or delete this text.</font>"
   ]
  },
  {
   "cell_type": "code",
   "execution_count": null,
   "metadata": {},
   "outputs": [],
   "source": [
    "# Load metadata of each dataset\n",
    "dsets = fgread.get_datasets()\n",
    "dsets"
   ]
  },
  {
   "cell_type": "code",
   "execution_count": null,
   "metadata": {},
   "outputs": [],
   "source": [
    "# Read all datasets into a dictionary of AnnData objects\n",
    "adata_dct = fgread.read_datasets() # If you have multiple datasets they will be all loaded into RAM.\n",
    "\n",
    "# You can, for example, iterate over your datasets and print basic information for each\n",
    "for i,adata in adata_dct.items():\n",
    "    print(i, adata)"
   ]
  },
  {
   "cell_type": "code",
   "execution_count": null,
   "metadata": {},
   "outputs": [],
   "source": [
    "# You can also select a single dataset by its ID like below. This will return a single AnnData object and save you some RAM if you don't neet all datasets right away\n",
    "# adata = fgread.read_datasets(dsets[1])"
   ]
  },
  {
   "cell_type": "markdown",
   "metadata": {},
   "source": [
    "## Preprocessing\n",
    "If this is your first analysis, you can find examples [here](https://beta.fastgenomics.org/webclient/ui/#/analyses/detail-analysis-c4a597f0842941aa9d73072e473de91d) or [here](https://beta.fastgenomics.org/webclient/ui/#/analyses/detail-analysis-37e3664431a34d4a9bb6b9f725036f48).\n",
    "\n",
    "<font color=\"red\">You can describe your preprocessing here or delete this text.</font>"
   ]
  },
  {
   "cell_type": "code",
   "execution_count": null,
   "metadata": {},
   "outputs": [],
   "source": [
    "# This is an example of how to prepare AnnData matrices for processing with R\n",
    "data = adata_dct[1].X.T.todense()"
   ]
  },
  {
   "cell_type": "code",
   "execution_count": null,
   "metadata": {},
   "outputs": [],
   "source": [
    "%%R -i data -o clusters\n",
    "# You can use R code in cells with specified inputs and outputs\n",
    "clusters <- quickCluster(data)"
   ]
  },
  {
   "cell_type": "code",
   "execution_count": null,
   "metadata": {},
   "outputs": [],
   "source": [
    "# The outputs are then available in Python\n",
    "clusters"
   ]
  }
 ],
 "metadata": {
  "hide_input": false,
  "kernelspec": {
   "display_name": "Python 3",
   "language": "python",
   "name": "python3"
  },
  "language_info": {
   "codemirror_mode": {
    "name": "ipython",
    "version": 3
   },
   "file_extension": ".py",
   "mimetype": "text/x-python",
   "name": "python",
   "nbconvert_exporter": "python",
   "pygments_lexer": "ipython3",
   "version": "3.7.3"
  },
  "toc": {
   "base_numbering": 1,
   "nav_menu": {},
   "number_sections": true,
   "sideBar": true,
   "skip_h1_title": false,
   "title_cell": "Table of Contents",
   "title_sidebar": "Contents",
   "toc_cell": false,
   "toc_position": {},
   "toc_section_display": true,
   "toc_window_display": false
  }
 },
 "nbformat": 4,
 "nbformat_minor": 4
}
