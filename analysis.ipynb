{
 "cells": [
  {
   "cell_type": "markdown",
   "metadata": {},
   "source": [
    "# FASTGenomics Scanpy + R Analysis"
   ]
  },
  {
   "cell_type": "markdown",
   "metadata": {},
   "source": [
    "<font color=\"red\">You might want to describe your analysis briefly here, if you are planning to share it.</font>"
   ]
  },
  {
   "cell_type": "code",
   "execution_count": 1,
   "metadata": {},
   "outputs": [],
   "source": [
    "# Place all your Python imports here.\n",
    "import logging\n",
    "import fgread\n",
    "import scanpy as sc\n",
    "\n",
    "# do not delete these imports as they are required for R support\n",
    "import rpy2.rinterface_lib.callbacks\n",
    "from rpy2.robjects import pandas2ri\n",
    "import anndata2ri\n",
    "%load_ext rpy2.ipython"
   ]
  },
  {
   "cell_type": "code",
   "execution_count": 2,
   "metadata": {},
   "outputs": [],
   "source": [
    "%%R\n",
    "# Place all your R library imports here\n",
    "suppressPackageStartupMessages({\n",
    "    library(scran)\n",
    "})"
   ]
  },
  {
   "cell_type": "code",
   "execution_count": 3,
   "metadata": {},
   "outputs": [],
   "source": [
    "# Place all your parameter values here.\n",
    "\n",
    "sc.settings.verbosity = 1                                    # scanpy verbosity: errors (0), warnings (1), info (2), hints (3)\n",
    "rpy2.rinterface_lib.callbacks.logger.setLevel(logging.ERROR) # Ignore R warning messages\n",
    "\n",
    "# Automatically convert rpy2 outputs to pandas dataframes\n",
    "pandas2ri.activate()\n",
    "anndata2ri.activate()"
   ]
  },
  {
   "cell_type": "markdown",
   "metadata": {},
   "source": [
    "## Raw Data\n",
    "First, the raw dataset(s) will be read into an AnnData object(s)."
   ]
  },
  {
   "cell_type": "markdown",
   "metadata": {},
   "source": [
    "<font color=\"red\">You can describe your data here using markdown or delete this text.</font>"
   ]
  },
  {
   "cell_type": "code",
   "execution_count": 4,
   "metadata": {},
   "outputs": [
    {
     "data": {
      "text/html": [
       "<div>\n",
       "<style scoped>\n",
       "    .dataframe tbody tr th:only-of-type {\n",
       "        vertical-align: middle;\n",
       "    }\n",
       "\n",
       "    .dataframe tbody tr th {\n",
       "        vertical-align: top;\n",
       "    }\n",
       "\n",
       "    .dataframe thead th {\n",
       "        text-align: right;\n",
       "    }\n",
       "</style>\n",
       "<table border=\"1\" class=\"dataframe\">\n",
       "  <thead>\n",
       "    <tr style=\"text-align: right;\">\n",
       "      <th></th>\n",
       "      <th>title</th>\n",
       "      <th>id</th>\n",
       "      <th>format</th>\n",
       "      <th>organism</th>\n",
       "      <th>tissue</th>\n",
       "      <th>numberOfCells</th>\n",
       "      <th>numberOfGenes</th>\n",
       "      <th>path</th>\n",
       "      <th>file</th>\n",
       "      <th>citation</th>\n",
       "      <th>description</th>\n",
       "      <th>license</th>\n",
       "      <th>preprocessing</th>\n",
       "      <th>technology</th>\n",
       "      <th>webLink</th>\n",
       "    </tr>\n",
       "  </thead>\n",
       "  <tbody>\n",
       "    <tr>\n",
       "      <th>0</th>\n",
       "      <td>Xia et al., PNAS (2019)</td>\n",
       "      <td>dataset-022cb7ceda2840a0a4ca1d71a6fe632c</td>\n",
       "      <td>AnnData</td>\n",
       "      <td>Human</td>\n",
       "      <td>Bone</td>\n",
       "      <td>645.0</td>\n",
       "      <td>12903.0</td>\n",
       "      <td>/fastgenomics/data/dataset_0001</td>\n",
       "      <td>Xia2019_merfish_0622.h5ad</td>\n",
       "      <td>&lt;p&gt;Xia, Chenglong, et al. \"Spatial transcripto...</td>\n",
       "      <td>&lt;h3&gt;Spatial transcriptome profiling by MERFISH...</td>\n",
       "      <td>None</td>\n",
       "      <td>None</td>\n",
       "      <td>None</td>\n",
       "      <td>https://www.pnas.org/content/116/39/19490</td>\n",
       "    </tr>\n",
       "    <tr>\n",
       "      <th>1</th>\n",
       "      <td>Wu B et. al, Stem cell reports (2017)</td>\n",
       "      <td>dataset-07e9d981aed14018891984197783544a</td>\n",
       "      <td>tab-separated text</td>\n",
       "      <td>Mouse (Mus musculus)</td>\n",
       "      <td>uterus</td>\n",
       "      <td>714.0</td>\n",
       "      <td>12479.0</td>\n",
       "      <td>/fastgenomics/data/dataset_0002</td>\n",
       "      <td>GSE98451_uterus_single_cell_RNA-Seq_counts.txt</td>\n",
       "      <td>Wu, B, et. al, Reconstructing Lineage Hierarch...</td>\n",
       "      <td>&lt;p&gt;This dataset comprises transcriptomes from ...</td>\n",
       "      <td>None</td>\n",
       "      <td>None</td>\n",
       "      <td>CEL-seq/CEL-seq2</td>\n",
       "      <td>https://www.ncbi.nlm.nih.gov/geo/query/acc.cgi...</td>\n",
       "    </tr>\n",
       "    <tr>\n",
       "      <th>2</th>\n",
       "      <td>3k PBMCs from a Healthy Donor</td>\n",
       "      <td>dataset-0e6e4441afac43f7988bb399ef0c3fa3</td>\n",
       "      <td>Loom</td>\n",
       "      <td>Human</td>\n",
       "      <td>peripheral blood mononuclear cells</td>\n",
       "      <td>2700.0</td>\n",
       "      <td>13714.0</td>\n",
       "      <td>/fastgenomics/data/dataset_0003</td>\n",
       "      <td>data.loom</td>\n",
       "      <td>None</td>\n",
       "      <td>&lt;p&gt;3k PBMCs from a Healthy Donor&lt;br /&gt;Single C...</td>\n",
       "      <td>&lt;a href=\"https://creativecommons.org/licenses/...</td>\n",
       "      <td>The original data was downloaded from the 10x ...</td>\n",
       "      <td>10x Chromium Single Cell 3'</td>\n",
       "      <td>https://support.10xgenomics.com/single-cell-ge...</td>\n",
       "    </tr>\n",
       "  </tbody>\n",
       "</table>\n",
       "</div>"
      ],
      "text/plain": [
       "                                   title  \\\n",
       "0                Xia et al., PNAS (2019)   \n",
       "1  Wu B et. al, Stem cell reports (2017)   \n",
       "2          3k PBMCs from a Healthy Donor   \n",
       "\n",
       "                                         id              format  \\\n",
       "0  dataset-022cb7ceda2840a0a4ca1d71a6fe632c             AnnData   \n",
       "1  dataset-07e9d981aed14018891984197783544a  tab-separated text   \n",
       "2  dataset-0e6e4441afac43f7988bb399ef0c3fa3                Loom   \n",
       "\n",
       "               organism                              tissue  numberOfCells  \\\n",
       "0                 Human                                Bone          645.0   \n",
       "1  Mouse (Mus musculus)                              uterus          714.0   \n",
       "2                 Human  peripheral blood mononuclear cells         2700.0   \n",
       "\n",
       "   numberOfGenes                             path  \\\n",
       "0        12903.0  /fastgenomics/data/dataset_0001   \n",
       "1        12479.0  /fastgenomics/data/dataset_0002   \n",
       "2        13714.0  /fastgenomics/data/dataset_0003   \n",
       "\n",
       "                                             file  \\\n",
       "0                       Xia2019_merfish_0622.h5ad   \n",
       "1  GSE98451_uterus_single_cell_RNA-Seq_counts.txt   \n",
       "2                                       data.loom   \n",
       "\n",
       "                                            citation  \\\n",
       "0  <p>Xia, Chenglong, et al. \"Spatial transcripto...   \n",
       "1  Wu, B, et. al, Reconstructing Lineage Hierarch...   \n",
       "2                                               None   \n",
       "\n",
       "                                         description  \\\n",
       "0  <h3>Spatial transcriptome profiling by MERFISH...   \n",
       "1  <p>This dataset comprises transcriptomes from ...   \n",
       "2  <p>3k PBMCs from a Healthy Donor<br />Single C...   \n",
       "\n",
       "                                             license  \\\n",
       "0                                               None   \n",
       "1                                               None   \n",
       "2  <a href=\"https://creativecommons.org/licenses/...   \n",
       "\n",
       "                                       preprocessing  \\\n",
       "0                                               None   \n",
       "1                                               None   \n",
       "2  The original data was downloaded from the 10x ...   \n",
       "\n",
       "                    technology  \\\n",
       "0                         None   \n",
       "1             CEL-seq/CEL-seq2   \n",
       "2  10x Chromium Single Cell 3'   \n",
       "\n",
       "                                             webLink  \n",
       "0          https://www.pnas.org/content/116/39/19490  \n",
       "1  https://www.ncbi.nlm.nih.gov/geo/query/acc.cgi...  \n",
       "2  https://support.10xgenomics.com/single-cell-ge...  "
      ]
     },
     "execution_count": 4,
     "metadata": {},
     "output_type": "execute_result"
    }
   ],
   "source": [
    "# Print metadata of all attached datasets\n",
    "ds_info = fgread.ds_info()\n",
    "ds_info"
   ]
  },
  {
   "cell_type": "code",
   "execution_count": 5,
   "metadata": {},
   "outputs": [
    {
     "name": "stderr",
     "output_type": "stream",
     "text": [
      "Loading dataset \"Xia et al., PNAS (2019)\" in format \"AnnData\" from directory \"/fastgenomics/data/dataset_0001\"...\n",
      "\n",
      "Loaded dataset \"Xia et al., PNAS (2019)\" with 645 cells and 12903 genes.\n",
      "==================================================================\n",
      "\n",
      "Loading dataset \"Wu B et. al, Stem cell reports (2017)\" in format \"tab-separated text\" from directory \"/fastgenomics/data/dataset_0002\"...\n",
      "\n",
      "Loaded dataset \"Wu B et. al, Stem cell reports (2017)\" with 714 cells and 12479 genes.\n",
      "==================================================================\n",
      "\n",
      "Loading dataset \"3k PBMCs from a Healthy Donor\" in format \"Loom\" from directory \"/fastgenomics/data/dataset_0003\"...\n",
      "\n",
      "Loaded dataset \"3k PBMCs from a Healthy Donor\" with 2700 cells and 32738 genes.\n",
      "==================================================================\n",
      "\n"
     ]
    },
    {
     "data": {
      "text/plain": [
       "{'Xia et al., PNAS (2019)': AnnData object with n_obs × n_vars = 645 × 12903 \n",
       "     obs: 'fg_id'\n",
       "     uns: 'ds_metadata'\n",
       "     obsm: 'X_spatial',\n",
       " 'Wu B et. al, Stem cell reports (2017)': AnnData object with n_obs × n_vars = 714 × 12479 \n",
       "     obs: 'sample', 'fg_id'\n",
       "     uns: 'ds_metadata',\n",
       " '3k PBMCs from a Healthy Donor': AnnData object with n_obs × n_vars = 2700 × 32738 \n",
       "     obs: 'fg_id'\n",
       "     var: 'gene_ids'\n",
       "     uns: 'ds_metadata'}"
      ]
     },
     "execution_count": 5,
     "metadata": {},
     "output_type": "execute_result"
    }
   ],
   "source": [
    "# Read all attached datasets into a dictionary of AnnData objects\n",
    "# If you have multiple datasets they will be all loaded into RAM.\n",
    "data_all = dict()\n",
    "for i,ds in ds_info.iterrows():\n",
    "    title = ds['title']\n",
    "    data_all[title] = fgread.load_data(title)\n",
    "data_all"
   ]
  },
  {
   "cell_type": "code",
   "execution_count": 7,
   "metadata": {},
   "outputs": [],
   "source": [
    "# If you only have one dataset in your analysis you can load it by\n",
    "#adata = fgread.load_data()\n",
    "# You can also load a specific dataset by providing its ID or title as a parameter"
   ]
  },
  {
   "cell_type": "markdown",
   "metadata": {},
   "source": [
    "## Preprocessing\n",
    "<font color=\"red\">You can describe your preprocessing here or delete this text.</font>\n",
    "\n",
    "If this is your first analysis, you might want to have a look at our tutorials on\n",
    "<a href=\"https://beta.fastgenomics.org/webclient/ui/#/analyses/detail-analysis-42e3571101184ed78856cbd83adfeb7e\" target=\"_blank\">Getting Started with FASTGenomics Lab</a>,\n",
    "the data loading (<a href=\"https://beta.fastgenomics.org/webclient/ui/#/analyses/detail-analysis-9975f546d76341ea85a6c5b0870654a1\" target=\"_blank\">How to Load Data in FASTGenomics (Python)</a>),\n",
    "Scanpy with R support (<a href=\"https://beta.fastgenomics.org/webclient/ui/#/analyses/detail-analysis-2bd51db2cb564ca7bc8dc3a9caa6b09b\" target=\"_blank\">Advanced Scanpy with R Support (rpy2)</a>), or the\n",
    "<a href=\"https://beta.fastgenomics.org/webclient/ui/#/analyses/detail-analysis-4550a1215f5747f88ac0f83ab96d2114\" target=\"_blank\">Best Practices Preprocessing Notebook</a>."
   ]
  },
  {
   "cell_type": "code",
   "execution_count": 12,
   "metadata": {},
   "outputs": [],
   "source": [
    "# This is an example of how to prepare AnnData matrices for processing with R\n",
    "data = data_all[title].X.T.todense()"
   ]
  },
  {
   "cell_type": "code",
   "execution_count": 13,
   "metadata": {},
   "outputs": [],
   "source": [
    "%%R -i data -o clusters\n",
    "# You can use R code in cells with specified inputs and outputs\n",
    "clusters <- quickCluster(data)"
   ]
  },
  {
   "cell_type": "code",
   "execution_count": 14,
   "metadata": {},
   "outputs": [
    {
     "data": {
      "text/plain": [
       "[2, 6, 4, 1, 3, ..., 1, 6, 6, 6, 4]\n",
       "Length: 2700\n",
       "Categories (6, object): [1, 2, 3, 4, 5, 6]"
      ]
     },
     "execution_count": 14,
     "metadata": {},
     "output_type": "execute_result"
    }
   ],
   "source": [
    "# The outputs are then available in Python\n",
    "clusters"
   ]
  },
  {
   "cell_type": "code",
   "execution_count": null,
   "metadata": {},
   "outputs": [],
   "source": []
  }
 ],
 "metadata": {
  "hide_input": false,
  "kernelspec": {
   "display_name": "Python 3",
   "language": "python",
   "name": "python3"
  },
  "language_info": {
   "codemirror_mode": {
    "name": "ipython",
    "version": 3
   },
   "file_extension": ".py",
   "mimetype": "text/x-python",
   "name": "python",
   "nbconvert_exporter": "python",
   "pygments_lexer": "ipython3",
   "version": "3.7.3"
  },
  "toc": {
   "base_numbering": 1,
   "nav_menu": {},
   "number_sections": true,
   "sideBar": true,
   "skip_h1_title": false,
   "title_cell": "Table of Contents",
   "title_sidebar": "Contents",
   "toc_cell": false,
   "toc_position": {},
   "toc_section_display": true,
   "toc_window_display": false
  },
  "widgets": {
   "application/vnd.jupyter.widget-state+json": {
    "state": {},
    "version_major": 2,
    "version_minor": 0
   }
  }
 },
 "nbformat": 4,
 "nbformat_minor": 4
}
